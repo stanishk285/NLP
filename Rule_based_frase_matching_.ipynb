{
 "cells": [
  {
   "cell_type": "code",
   "execution_count": 1,
   "id": "b03c52b4",
   "metadata": {},
   "outputs": [],
   "source": [
    "import spacy"
   ]
  },
  {
   "cell_type": "code",
   "execution_count": 2,
   "id": "aa373ff9",
   "metadata": {},
   "outputs": [],
   "source": [
    "nlp =spacy.load('en_core_web_sm')"
   ]
  },
  {
   "cell_type": "code",
   "execution_count": 3,
   "id": "1af247d5",
   "metadata": {},
   "outputs": [],
   "source": [
    "#import matcher\n",
    "from spacy.matcher import Matcher"
   ]
  },
  {
   "cell_type": "code",
   "execution_count": 4,
   "id": "4161cdcc",
   "metadata": {},
   "outputs": [],
   "source": [
    "matcher = Matcher(nlp.vocab)"
   ]
  },
  {
   "cell_type": "code",
   "execution_count": 5,
   "id": "adfbe6c7",
   "metadata": {},
   "outputs": [],
   "source": [
    "#creating patterns\n",
    "pattern1=[{'LOWER':'solarpower'}]\n",
    "pattern2=[{'LOWER':'solar'},{'LOWER':'power'}]\n",
    "pattern3=[{'LOWER':'solar'},{'IS_PUNCT':True},{'LOWER':'power'}]"
   ]
  },
  {
   "cell_type": "code",
   "execution_count": 6,
   "id": "ca02e6c2",
   "metadata": {},
   "outputs": [],
   "source": [
    "matcher.add('SolarPower',[pattern1,pattern2,pattern3])"
   ]
  },
  {
   "cell_type": "code",
   "execution_count": 7,
   "id": "ecdcd418",
   "metadata": {},
   "outputs": [],
   "source": [
    "doc=nlp('The Solar Power industry continues to grow a solarpower increases. Solar-power cars are gaining popularity')"
   ]
  },
  {
   "cell_type": "code",
   "execution_count": 8,
   "id": "737e2bb1",
   "metadata": {},
   "outputs": [
    {
     "name": "stdout",
     "output_type": "stream",
     "text": [
      "[(8656102463236116519, 1, 3), (8656102463236116519, 8, 9), (8656102463236116519, 11, 14)]\n"
     ]
    }
   ],
   "source": [
    "found_matches = matcher(doc)\n",
    "print(found_matches)"
   ]
  },
  {
   "cell_type": "code",
   "execution_count": 9,
   "id": "29ff1c2c",
   "metadata": {},
   "outputs": [
    {
     "name": "stdout",
     "output_type": "stream",
     "text": [
      "8656102463236116519 SolarPower 1 3 Solar Power\n",
      "8656102463236116519 SolarPower 8 9 solarpower\n",
      "8656102463236116519 SolarPower 11 14 Solar-power\n"
     ]
    }
   ],
   "source": [
    "for match_id,start,end in found_matches:\n",
    "    string_id=nlp.vocab.strings[match_id]\n",
    "    span=doc[start:end]\n",
    "    print(match_id, string_id, start, end, span.text)\n",
    "#the match_id is simply hash value of string_id "
   ]
  },
  {
   "cell_type": "code",
   "execution_count": 10,
   "id": "fac44c02",
   "metadata": {},
   "outputs": [],
   "source": [
    "doc=nlp('The Solar Power industry continues to grow a solarpower increases. Solar-power cars are gaining popularity')"
   ]
  },
  {
   "cell_type": "code",
   "execution_count": 11,
   "id": "9b18ae55",
   "metadata": {},
   "outputs": [],
   "source": [
    "#redefine pattern\n",
    "pattern1=[{'LOWER':'solarpower'}]\n",
    "pattern2=[{'LOWER':'solar'},{'IS_PUNCT':True,'OP':'+'},{'LOWER':'power'}]"
   ]
  },
  {
   "cell_type": "code",
   "execution_count": 12,
   "id": "bdf01df9",
   "metadata": {},
   "outputs": [],
   "source": [
    "matcher.add('SolarPower',[pattern1,pattern2])"
   ]
  },
  {
   "cell_type": "code",
   "execution_count": 13,
   "id": "4adc7101",
   "metadata": {},
   "outputs": [
    {
     "name": "stdout",
     "output_type": "stream",
     "text": [
      "[(8656102463236116519, 1, 3), (8656102463236116519, 8, 9), (8656102463236116519, 11, 14)]\n"
     ]
    }
   ],
   "source": [
    "found_matches = matcher(doc)\n",
    "print(found_matches)"
   ]
  },
  {
   "cell_type": "code",
   "execution_count": 14,
   "id": "63ddcaec",
   "metadata": {},
   "outputs": [],
   "source": [
    "#homework\n",
    "doc=nlp('I am studying machine learning and artificial intelligence')\n",
    "pattern1=[{'LOWER':'machinelearning'}]\n",
    "pattern2=[{'LOWER':'machine'},{'LOWER':'learning'}]\n",
    "pattern3=[{'LOWER':'artificialintelligence'}]\n",
    "pattern4=[{'LOWER':'artificial'},{'LOWER':'intelligence'}]"
   ]
  },
  {
   "cell_type": "code",
   "execution_count": 15,
   "id": "beeacf27",
   "metadata": {},
   "outputs": [],
   "source": [
    "matcher.add('MachineLearning',[pattern1,pattern2])\n",
    "matcher.add('ArtificialIntelligence',[pattern3,pattern4])"
   ]
  },
  {
   "cell_type": "code",
   "execution_count": 25,
   "id": "480f05c0",
   "metadata": {},
   "outputs": [
    {
     "data": {
      "text/plain": [
       "[(9506786281736591487, 3, 5), (8933914146489643596, 6, 8)]"
      ]
     },
     "execution_count": 25,
     "metadata": {},
     "output_type": "execute_result"
    }
   ],
   "source": [
    "matcher(doc)"
   ]
  },
  {
   "cell_type": "code",
   "execution_count": 23,
   "id": "d49c3b58",
   "metadata": {},
   "outputs": [],
   "source": []
  },
  {
   "cell_type": "code",
   "execution_count": null,
   "id": "ac8f0b0e",
   "metadata": {},
   "outputs": [],
   "source": []
  }
 ],
 "metadata": {
  "kernelspec": {
   "display_name": "Python 3 (ipykernel)",
   "language": "python",
   "name": "python3"
  },
  "language_info": {
   "codemirror_mode": {
    "name": "ipython",
    "version": 3
   },
   "file_extension": ".py",
   "mimetype": "text/x-python",
   "name": "python",
   "nbconvert_exporter": "python",
   "pygments_lexer": "ipython3",
   "version": "3.11.5"
  }
 },
 "nbformat": 4,
 "nbformat_minor": 5
}
